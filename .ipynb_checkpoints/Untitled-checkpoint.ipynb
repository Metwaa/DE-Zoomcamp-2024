{
 "cells": [
  {
   "cell_type": "code",
   "execution_count": 1,
   "id": "f9250cb6-0f86-439e-8061-c3ec476f83ee",
   "metadata": {},
   "outputs": [
    {
     "name": "stdout",
     "output_type": "stream",
     "text": [
      "1.0\n",
      "1.4142135623730951\n",
      "1.7320508075688772\n",
      "2.0\n",
      "2.23606797749979\n",
      "\n",
      "\n",
      " the sum of the outputs of the generator is: 8.382332347441762\n"
     ]
    }
   ],
   "source": [
    "#Answer of Question 1\n",
    "def square_root_generator(limit):\n",
    "    n = 1\n",
    "    while n <= limit:\n",
    "        yield n ** 0.5\n",
    "        n += 1\n",
    "\n",
    "# Example usage:\n",
    "limit = 5\n",
    "generator = square_root_generator(limit)\n",
    "\n",
    "x=0\n",
    "for sqrt_value in generator:\n",
    "    x += sqrt_value\n",
    "    print(sqrt_value)\n",
    "    \n",
    "print(\"\\n\\n the sum of the outputs of the generator is:\" , x)"
   ]
  },
  {
   "cell_type": "code",
   "execution_count": 2,
   "id": "7338d74b-7d4b-4f0e-ac36-9902a34d4734",
   "metadata": {},
   "outputs": [
    {
     "name": "stdout",
     "output_type": "stream",
     "text": [
      "1.0\n",
      "1.4142135623730951\n",
      "1.7320508075688772\n",
      "2.0\n",
      "2.23606797749979\n",
      "2.449489742783178\n",
      "2.6457513110645907\n",
      "2.8284271247461903\n",
      "3.0\n",
      "3.1622776601683795\n",
      "3.3166247903554\n",
      "3.4641016151377544\n",
      "3.605551275463989\n"
     ]
    }
   ],
   "source": [
    "#Answer of Question 2\n",
    "def square_root_generator(limit):\n",
    "    n = 1\n",
    "    while n <= limit:\n",
    "        yield n ** 0.5\n",
    "        n += 1\n",
    "\n",
    "# Example usage:\n",
    "limit = 13\n",
    "generator = square_root_generator(limit)\n",
    "\n",
    "x=0\n",
    "for sqrt_value in generator:\n",
    "    x += sqrt_value\n",
    "    print(sqrt_value)"
   ]
  },
  {
   "cell_type": "code",
   "execution_count": 3,
   "id": "f48910fb-ce4d-41e9-acb2-292921f9e423",
   "metadata": {},
   "outputs": [
    {
     "name": "stdout",
     "output_type": "stream",
     "text": [
      "353\n"
     ]
    }
   ],
   "source": [
    "#Answer of Question 3\n",
    "def people_1():\n",
    "    for i in range(1, 6):\n",
    "        yield {\"ID\": i, \"Name\": f\"Person_{i}\", \"Age\": 25 + i, \"City\": \"City_A\"}\n",
    "x=0\n",
    "for person in people_1():\n",
    "    x += person[\"Age\"]\n",
    "    #print(person)\n",
    "\n",
    "def people_2():\n",
    "    for i in range(3, 9):\n",
    "        yield {\"ID\": i, \"Name\": f\"Person_{i}\", \"Age\": 30 + i, \"City\": \"City_B\", \"Occupation\": f\"Job_{i}\"}\n",
    "\n",
    "\n",
    "for person in people_2():\n",
    "    x += person[\"Age\"]\n",
    "    #print(person)\n",
    "    \n",
    "print(x)"
   ]
  },
  {
   "cell_type": "code",
   "execution_count": 4,
   "id": "414a7b00-8762-4a02-8db1-7a88d5438231",
   "metadata": {},
   "outputs": [
    {
     "name": "stdout",
     "output_type": "stream",
     "text": [
      "dict_values([{'ID': 1, 'Name': 'Person_1', 'Age': 26, 'City': 'City_A'}, {'ID': 2, 'Name': 'Person_2', 'Age': 27, 'City': 'City_A'}, {'ID': 3, 'Name': 'Person_3', 'Age': 33, 'City': 'City_B', 'Occupation': 'Job_3'}, {'ID': 4, 'Name': 'Person_4', 'Age': 34, 'City': 'City_B', 'Occupation': 'Job_4'}, {'ID': 5, 'Name': 'Person_5', 'Age': 35, 'City': 'City_B', 'Occupation': 'Job_5'}, {'ID': 6, 'Name': 'Person_6', 'Age': 36, 'City': 'City_B', 'Occupation': 'Job_6'}, {'ID': 7, 'Name': 'Person_7', 'Age': 37, 'City': 'City_B', 'Occupation': 'Job_7'}, {'ID': 8, 'Name': 'Person_8', 'Age': 38, 'City': 'City_B', 'Occupation': 'Job_8'}])\n",
      "\n",
      "\n",
      " Sum of ages of all the people is: 266\n"
     ]
    }
   ],
   "source": [
    "#Answer of Question 4\n",
    "def people_1():\n",
    "    for i in range(1, 6):\n",
    "        yield {\"ID\": i, \"Name\": f\"Person_{i}\", \"Age\": 25 + i, \"City\": \"City_A\"}\n",
    "\n",
    "def people_2():\n",
    "    for i in range(3, 9):\n",
    "        yield {\"ID\": i, \"Name\": f\"Person_{i}\", \"Age\": 30 + i, \"City\": \"City_B\", \"Occupation\": f\"Job_{i}\"}\n",
    "\n",
    "merged = {}\n",
    "for person in people_1():\n",
    "  merged[person['ID']] = person\n",
    "\n",
    "for person in people_2():\n",
    "  merged[person['ID']] = person\n",
    "\n",
    "#show the merged values\n",
    "print(merged.values())\n",
    "\n",
    "x=0\n",
    "for person in merged.values():\n",
    "  x += person['Age']\n",
    "\n",
    "print(\"\\n\\n Sum of ages of all the people is:\",x)"
   ]
  },
  {
   "cell_type": "code",
   "execution_count": null,
   "id": "17ef3ccf-ffe2-4ba9-b7d7-85c0bbbcc18e",
   "metadata": {},
   "outputs": [],
   "source": []
  }
 ],
 "metadata": {
  "kernelspec": {
   "display_name": "Python 3 (ipykernel)",
   "language": "python",
   "name": "python3"
  },
  "language_info": {
   "codemirror_mode": {
    "name": "ipython",
    "version": 3
   },
   "file_extension": ".py",
   "mimetype": "text/x-python",
   "name": "python",
   "nbconvert_exporter": "python",
   "pygments_lexer": "ipython3",
   "version": "3.10.13"
  }
 },
 "nbformat": 4,
 "nbformat_minor": 5
}
