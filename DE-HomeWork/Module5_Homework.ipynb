{
 "cells": [
  {
   "cell_type": "markdown",
   "id": "3dfed80a",
   "metadata": {},
   "source": [
    "### Welcome to Module 5 Homework"
   ]
  },
  {
   "cell_type": "code",
   "execution_count": 1,
   "id": "f7ea176c",
   "metadata": {},
   "outputs": [
    {
     "name": "stderr",
     "output_type": "stream",
     "text": [
      "24/03/02 07:24:07 WARN Utils: Your hostname, amr-VirtualBox resolves to a loopback address: 127.0.1.1; using 192.168.1.4 instead (on interface enp0s3)\n",
      "24/03/02 07:24:07 WARN Utils: Set SPARK_LOCAL_IP if you need to bind to another address\n",
      "Setting default log level to \"WARN\".\n",
      "To adjust logging level use sc.setLogLevel(newLevel). For SparkR, use setLogLevel(newLevel).\n",
      "24/03/02 07:24:07 WARN NativeCodeLoader: Unable to load native-hadoop library for your platform... using builtin-java classes where applicable\n"
     ]
    }
   ],
   "source": [
    "import pyspark\n",
    "from pyspark.sql import SparkSession\n",
    "\n",
    "spark = SparkSession.builder \\\n",
    "    .master(\"local[*]\") \\\n",
    "    .appName('test') \\\n",
    "    .getOrCreate()"
   ]
  },
  {
   "cell_type": "code",
   "execution_count": 2,
   "id": "af8d2eb3",
   "metadata": {},
   "outputs": [],
   "source": [
    "import pandas as pd"
   ]
  },
  {
   "cell_type": "markdown",
   "id": "590c627b",
   "metadata": {},
   "source": [
    "## Answer of question 1"
   ]
  },
  {
   "cell_type": "code",
   "execution_count": 3,
   "id": "870adbeb",
   "metadata": {},
   "outputs": [
    {
     "data": {
      "text/plain": [
       "'3.5.0'"
      ]
     },
     "execution_count": 3,
     "metadata": {},
     "output_type": "execute_result"
    }
   ],
   "source": [
    "pyspark.__version__"
   ]
  },
  {
   "cell_type": "markdown",
   "id": "16267bf1",
   "metadata": {},
   "source": [
    "## Answer of question 2"
   ]
  },
  {
   "cell_type": "code",
   "execution_count": 4,
   "id": "38adc112",
   "metadata": {},
   "outputs": [],
   "source": [
    "df_fhv_pd = pd.read_csv('/home/amr/NYC_Taxi_Data/fhv_2019/fhv_tripdata_2019_10.csv', nrows=1000)"
   ]
  },
  {
   "cell_type": "code",
   "execution_count": 5,
   "id": "a346ff60",
   "metadata": {},
   "outputs": [
    {
     "data": {
      "text/plain": [
       "StructType([StructField('dispatching_base_num', StringType(), True), StructField('pickup_datetime', StringType(), True), StructField('dropOff_datetime', StringType(), True), StructField('PUlocationID', DoubleType(), True), StructField('DOlocationID', DoubleType(), True), StructField('SR_Flag', DoubleType(), True), StructField('Affiliated_base_number', StringType(), True)])"
      ]
     },
     "execution_count": 5,
     "metadata": {},
     "output_type": "execute_result"
    }
   ],
   "source": [
    "spark.createDataFrame(df_fhv_pd).schema"
   ]
  },
  {
   "cell_type": "code",
   "execution_count": 6,
   "id": "d2583e93",
   "metadata": {},
   "outputs": [],
   "source": [
    "from pyspark.sql import types"
   ]
  },
  {
   "cell_type": "code",
   "execution_count": 7,
   "id": "6be7a33f",
   "metadata": {},
   "outputs": [],
   "source": [
    "df_fhv_schema = types.StructType([\n",
    "    types.StructField(\"dispatching_base_num\", types.StringType(), True), \n",
    "    types.StructField(\"pickup_datetime\", types.TimestampType(), True), \n",
    "    types.StructField(\"dropOff_datetime\", types.TimestampType(), True), \n",
    "    types.StructField(\"PUlocationID\", types.IntegerType(), True), \n",
    "    types.StructField(\"DOlocationID\", types.IntegerType(), True), \n",
    "    types.StructField(\"SR_Flag\", types.IntegerType(), True), \n",
    "    types.StructField(\"Affiliated_base_number\", types.IntegerType(), True)\n",
    "])"
   ]
  },
  {
   "cell_type": "code",
   "execution_count": 9,
   "id": "d0f212b2",
   "metadata": {},
   "outputs": [
    {
     "name": "stderr",
     "output_type": "stream",
     "text": [
      "                                                                                \r"
     ]
    }
   ],
   "source": [
    "df_fhv = spark.read \\\n",
    "    .option(\"header\", \"true\") \\\n",
    "    .schema(df_fhv_schema) \\\n",
    "    .csv('/home/amr/NYC_Taxi_Data/fhv_2019/fhv_tripdata_2019_10.csv')\n",
    "\n",
    "df_fhv \\\n",
    ".repartition(6) \\\n",
    ".write.parquet('/home/amr/NYC_Taxi_Data/Module5/fhv_2029_10.parquet', mode='overwrite')"
   ]
  },
  {
   "cell_type": "markdown",
   "id": "7310f115",
   "metadata": {},
   "source": [
    "## Answer of question 3"
   ]
  },
  {
   "cell_type": "code",
   "execution_count": 10,
   "id": "b0537b5d",
   "metadata": {},
   "outputs": [],
   "source": [
    "df_fhv_pq = spark.read.parquet('/home/amr/NYC_Taxi_Data/Module5/*/*')"
   ]
  },
  {
   "cell_type": "code",
   "execution_count": 11,
   "id": "769948df",
   "metadata": {},
   "outputs": [
    {
     "name": "stderr",
     "output_type": "stream",
     "text": [
      "/home/amr/spark/spark-3.5.0-bin-hadoop3/python/pyspark/sql/dataframe.py:329: FutureWarning: Deprecated in 2.0, use createOrReplaceTempView instead.\n",
      "  warnings.warn(\"Deprecated in 2.0, use createOrReplaceTempView instead.\", FutureWarning)\n"
     ]
    }
   ],
   "source": [
    "df_fhv_pq.registerTempTable('fhv_2019_10')"
   ]
  },
  {
   "cell_type": "code",
   "execution_count": 12,
   "id": "0754ae93",
   "metadata": {},
   "outputs": [
    {
     "data": {
      "text/plain": [
       "[Row(dispatching_base_num='B02293', pickup_datetime=datetime.datetime(2019, 10, 2, 9, 59, 29), dropOff_datetime=datetime.datetime(2019, 10, 2, 10, 34, 6), PUlocationID=22, DOlocationID=181, SR_Flag=None, Affiliated_base_number=None),\n",
       " Row(dispatching_base_num='B01145', pickup_datetime=datetime.datetime(2019, 10, 10, 22, 22, 2), dropOff_datetime=datetime.datetime(2019, 10, 10, 22, 25, 23), PUlocationID=264, DOlocationID=136, SR_Flag=None, Affiliated_base_number=None),\n",
       " Row(dispatching_base_num='B00477', pickup_datetime=datetime.datetime(2019, 10, 8, 1, 55, 43), dropOff_datetime=datetime.datetime(2019, 10, 8, 2, 7, 51), PUlocationID=79, DOlocationID=258, SR_Flag=None, Affiliated_base_number=None),\n",
       " Row(dispatching_base_num='B01437', pickup_datetime=datetime.datetime(2019, 10, 9, 12, 49, 40), dropOff_datetime=datetime.datetime(2019, 10, 9, 13, 0, 58), PUlocationID=264, DOlocationID=130, SR_Flag=None, Affiliated_base_number=None),\n",
       " Row(dispatching_base_num='B00256', pickup_datetime=datetime.datetime(2019, 10, 8, 14, 4, 24), dropOff_datetime=datetime.datetime(2019, 10, 8, 14, 32, 6), PUlocationID=264, DOlocationID=264, SR_Flag=None, Affiliated_base_number=None),\n",
       " Row(dispatching_base_num='B00009', pickup_datetime=datetime.datetime(2019, 10, 8, 11, 49), dropOff_datetime=datetime.datetime(2019, 10, 8, 12, 5), PUlocationID=264, DOlocationID=264, SR_Flag=None, Affiliated_base_number=None),\n",
       " Row(dispatching_base_num='B00948', pickup_datetime=datetime.datetime(2019, 10, 2, 12, 58, 7), dropOff_datetime=datetime.datetime(2019, 10, 2, 13, 0, 50), PUlocationID=264, DOlocationID=76, SR_Flag=None, Affiliated_base_number=None),\n",
       " Row(dispatching_base_num='B02133', pickup_datetime=datetime.datetime(2019, 10, 2, 13, 46, 24), dropOff_datetime=datetime.datetime(2019, 10, 2, 13, 46, 42), PUlocationID=264, DOlocationID=264, SR_Flag=None, Affiliated_base_number=None),\n",
       " Row(dispatching_base_num='B01338', pickup_datetime=datetime.datetime(2019, 10, 2, 8, 53, 54), dropOff_datetime=datetime.datetime(2019, 10, 2, 9, 1, 30), PUlocationID=264, DOlocationID=166, SR_Flag=None, Affiliated_base_number=None),\n",
       " Row(dispatching_base_num='B01717', pickup_datetime=datetime.datetime(2019, 10, 9, 22, 20, 16), dropOff_datetime=datetime.datetime(2019, 10, 9, 22, 35, 25), PUlocationID=264, DOlocationID=78, SR_Flag=None, Affiliated_base_number=None)]"
      ]
     },
     "execution_count": 12,
     "metadata": {},
     "output_type": "execute_result"
    }
   ],
   "source": [
    "df_fhv_pq.head(10)"
   ]
  },
  {
   "cell_type": "code",
   "execution_count": 13,
   "id": "d709d59b",
   "metadata": {},
   "outputs": [
    {
     "name": "stderr",
     "output_type": "stream",
     "text": [
      "                                                                                \r"
     ]
    },
    {
     "name": "stdout",
     "output_type": "stream",
     "text": [
      "+-------------------+-----------+\n",
      "|         PickUp_Day|no_of_trips|\n",
      "+-------------------+-----------+\n",
      "|2019-10-15 00:00:00|      62610|\n",
      "+-------------------+-----------+\n",
      "\n"
     ]
    }
   ],
   "source": [
    "Que3 = spark.sql(\"\"\"\n",
    "SELECT \n",
    "    date_trunc('day', pickup_datetime) AS PickUp_Day, \n",
    "    count(*) as no_of_trips   \n",
    "FROM\n",
    "    fhv_2019_10\n",
    "WHERE\n",
    "    date_trunc('day', pickup_datetime) = '2019-10-15'\n",
    "GROUP BY\n",
    "    1\n",
    "\"\"\").show()"
   ]
  },
  {
   "cell_type": "markdown",
   "id": "8bbfdc1b",
   "metadata": {},
   "source": [
    "## Answer of question 4"
   ]
  },
  {
   "cell_type": "code",
   "execution_count": 14,
   "id": "909c9b15",
   "metadata": {},
   "outputs": [
    {
     "name": "stderr",
     "output_type": "stream",
     "text": [
      "\r",
      "[Stage 9:>                                                          (0 + 3) / 3]\r"
     ]
    },
    {
     "name": "stdout",
     "output_type": "stream",
     "text": [
      "+------------------+\n",
      "|longest_trip_hours|\n",
      "+------------------+\n",
      "|            631152|\n",
      "+------------------+\n",
      "\n"
     ]
    },
    {
     "name": "stderr",
     "output_type": "stream",
     "text": [
      "\r",
      "                                                                                \r"
     ]
    }
   ],
   "source": [
    "Que3 = spark.sql(\"\"\"\n",
    "SELECT MAX(calculated_trip_length) AS longest_trip_hours\n",
    "FROM (SELECT \n",
    "    pickup_datetime, \n",
    "    DATEDIFF(HOUR, pickup_datetime, dropOff_datetime) AS calculated_trip_length\n",
    "FROM\n",
    "    fhv_2019_10\n",
    "order by\n",
    "    date_trunc('hour', pickup_datetime)) \n",
    "AS trip_durations;\n",
    "\"\"\").show()"
   ]
  },
  {
   "cell_type": "markdown",
   "id": "f965af6e",
   "metadata": {},
   "source": [
    "## Answer for question 6"
   ]
  },
  {
   "cell_type": "code",
   "execution_count": 15,
   "id": "3a995aa8",
   "metadata": {},
   "outputs": [],
   "source": [
    "df_zones = spark.read.parquet('zones/')"
   ]
  },
  {
   "cell_type": "code",
   "execution_count": 16,
   "id": "73b0d1d5",
   "metadata": {},
   "outputs": [],
   "source": [
    "df_result = df_fhv_pq.join(df_zones, df_fhv_pq.PUlocationID== df_zones.LocationID, how='leftouter')\n",
    "df_result.registerTempTable('fhv_2019_10_zones')"
   ]
  },
  {
   "cell_type": "code",
   "execution_count": 17,
   "id": "7bb66774",
   "metadata": {},
   "outputs": [
    {
     "name": "stderr",
     "output_type": "stream",
     "text": [
      "\r",
      "[Stage 14:===================>                                      (1 + 2) / 3]\r"
     ]
    },
    {
     "name": "stdout",
     "output_type": "stream",
     "text": [
      "+-------------------+\n",
      "|least_frequent_zone|\n",
      "+-------------------+\n",
      "|        Jamaica Bay|\n",
      "+-------------------+\n",
      "\n"
     ]
    },
    {
     "name": "stderr",
     "output_type": "stream",
     "text": [
      "\r",
      "                                                                                \r"
     ]
    }
   ],
   "source": [
    "Que3 = spark.sql(\"\"\"\n",
    "SELECT Zone AS least_frequent_zone\n",
    "FROM fhv_2019_10_zones\n",
    "GROUP BY Zone\n",
    "ORDER BY COUNT(*) ASC\n",
    "LIMIT 1;\n",
    "\"\"\").show()"
   ]
  }
 ],
 "metadata": {
  "kernelspec": {
   "display_name": "Python 3 (ipykernel)",
   "language": "python",
   "name": "python3"
  },
  "language_info": {
   "codemirror_mode": {
    "name": "ipython",
    "version": 3
   },
   "file_extension": ".py",
   "mimetype": "text/x-python",
   "name": "python",
   "nbconvert_exporter": "python",
   "pygments_lexer": "ipython3",
   "version": "3.11.5"
  }
 },
 "nbformat": 4,
 "nbformat_minor": 5
}
